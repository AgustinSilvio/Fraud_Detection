{
 "cells": [
  {
   "cell_type": "markdown",
   "id": "e60a41c4",
   "metadata": {},
   "source": [
    "# **COMPARACIÓN DE MODELOS**"
   ]
  },
  {
   "cell_type": "markdown",
   "id": "1bec1030",
   "metadata": {},
   "source": [
    "# Índice"
   ]
  },
  {
   "cell_type": "markdown",
   "id": "2401675c",
   "metadata": {},
   "source": [
    "1. [Comparación teórica](#comparación-teórica)\n",
    "\n",
    "    1.0. [Random Forest vs. Gradient Boosting (XGBoost)](#random-forest-vs-gradient-boosting-xgboost)\n",
    "\n",
    "    1.1 [Random Forest vs. Árboles de Decisión Individuales](#random-forest-vs-árboles-de-decisión-individuales)\n",
    "    \n",
    "2. [Comparación práctica](#comparación-práctica)\n",
    "\n",
    "    2.0. [Paquetes](#paquetes)\n",
    "\n",
    "    2.1. [Evaluación](#evaluación)"
   ]
  },
  {
   "cell_type": "markdown",
   "id": "86c93ee0",
   "metadata": {},
   "source": [
    "## Comparación teórica"
   ]
  },
  {
   "cell_type": "markdown",
   "id": "56a97700",
   "metadata": {},
   "source": [
    "### Random Forest vs. Gradient Boosting (XGBoost)"
   ]
  },
  {
   "cell_type": "markdown",
   "id": "313cdc64",
   "metadata": {},
   "source": [
    "| Aspecto | Random Forest | XGBoost |\n",
    "|---------|---------------|---------|\n",
    "| Paralelización | Entrenamiento paralelo de árboles | Construcción secuencial de árboles |\n",
    "| Velocidad | Generalmente más rápido | Puede ser más lento pero a menudo más preciso |\n",
    "| Overfitting | Menos propenso debido a la aleatoriedad | Más propenso, requiere regularización |\n",
    "| Ajuste de hiperparámetros | Menos sensible a la configuración | Más sensible, requiere ajuste cuidadoso |\n",
    "| Interpretabilidad | Importancia de características | Importancia de características + ganancia |\n",
    "\n"
   ]
  },
  {
   "cell_type": "markdown",
   "id": "850cba1e",
   "metadata": {},
   "source": [
    "### Random Forest vs. Árboles de Decisión Individuales\n",
    "\n"
   ]
  },
  {
   "cell_type": "markdown",
   "id": "806670c6",
   "metadata": {},
   "source": [
    "Random Forest supera a los árboles individuales en:\n",
    "- Reducción de varianza y overfitting\n",
    "- Robustez frente a datos ruidosos\n",
    "- Precisión general\n",
    "- Estabilidad (pequeños cambios en los datos no afectan significativamente al modelo)\n",
    "\n",
    "La principal desventaja es la pérdida de interpretabilidad respecto a un árbol individual."
   ]
  },
  {
   "cell_type": "markdown",
   "id": "e14a0ab7",
   "metadata": {},
   "source": [
    "# Comparación práctica"
   ]
  },
  {
   "cell_type": "markdown",
   "id": "9b72967c",
   "metadata": {},
   "source": [
    "## Paquetes"
   ]
  },
  {
   "cell_type": "code",
   "execution_count": null,
   "id": "9da90c5a",
   "metadata": {},
   "outputs": [],
   "source": [
    "# Comparar curvas ROC\n",
    "from sklearn.metrics import roc_curve\n",
    "\n",
    "fpr_rf, tpr_rf, _ = roc_curve(y_test, y_pred_proba)\n",
    "fpr_xgb, tpr_xgb, _ = roc_curve(y_test, y_pred_proba_xgb)\n",
    "\n",
    "plt.figure(figsize=(10, 8))\n",
    "plt.plot(fpr_rf, tpr_rf, label=f'Random Forest (AUC = {roc_auc_score(y_test, y_pred_proba):.4f})')\n",
    "plt.plot(fpr_xgb, tpr_xgb, label=f'XGBoost (AUC = {roc_auc_score(y_test, y_pred_proba_xgb):.4f})')\n",
    "plt.plot([0, 1], [0, 1], 'k--')\n",
    "plt.xlabel('Tasa de Falsos Positivos')\n",
    "plt.ylabel('Tasa de Verdaderos Positivos')\n",
    "plt.title('Curvas ROC - Comparación de Modelos')\n",
    "plt.legend()\n",
    "plt.grid(True)\n",
    "plt.show()"
   ]
  },
  {
   "cell_type": "code",
   "execution_count": null,
   "id": "a05e1cbc",
   "metadata": {},
   "outputs": [
    {
     "name": "stderr",
     "output_type": "stream",
     "text": [
      "c:\\Users\\agust\\miniconda3\\envs\\mlparadetectarfraudes\\Lib\\site-packages\\sklearn\\metrics\\_classification.py:1731: UndefinedMetricWarning: Precision is ill-defined and being set to 0.0 in labels with no predicted samples. Use `zero_division` parameter to control this behavior.\n",
      "  _warn_prf(average, modifier, f\"{metric.capitalize()} is\", result.shape[0])\n",
      "c:\\Users\\agust\\miniconda3\\envs\\mlparadetectarfraudes\\Lib\\site-packages\\sklearn\\metrics\\_classification.py:1731: UndefinedMetricWarning: Precision is ill-defined and being set to 0.0 in labels with no predicted samples. Use `zero_division` parameter to control this behavior.\n",
      "  _warn_prf(average, modifier, f\"{metric.capitalize()} is\", result.shape[0])\n",
      "c:\\Users\\agust\\miniconda3\\envs\\mlparadetectarfraudes\\Lib\\site-packages\\sklearn\\metrics\\_classification.py:1731: UndefinedMetricWarning: Precision is ill-defined and being set to 0.0 in labels with no predicted samples. Use `zero_division` parameter to control this behavior.\n",
      "  _warn_prf(average, modifier, f\"{metric.capitalize()} is\", result.shape[0])\n"
     ]
    },
    {
     "name": "stdout",
     "output_type": "stream",
     "text": [
      "=== RECOMENDACIÓN DE MODELO ===\n",
      "Modelo recomendado: XGBoost\n",
      "Razón: Mejor balance entre recall (0.233) y precisión (0.055)\n",
      "Puntuación Random Forest: 0.1660\n",
      "Puntuación XGBoost: 0.2779\n",
      "===============================\n"
     ]
    }
   ],
   "source": [
    "def recomendar_modelo(y_test, y_pred_rf, y_pred_proba_rf, y_pred_xgb, y_pred_proba_xgb):\n",
    "    \"\"\"\n",
    "    Recomienda el mejor modelo basado en múltiples métricas entre XGBoost y Random Forest   \n",
    "    \"\"\"\n",
    "    # Calcular métricas para Random Forest\n",
    "    report_rf = classification_report(y_test, y_pred_rf, output_dict=True)\n",
    "    auc_rf = roc_auc_score(y_test, y_pred_proba_rf)\n",
    "    \n",
    "    # Calcular métricas para XGBoost\n",
    "    report_xgb = classification_report(y_test, y_pred_xgb, output_dict=True)\n",
    "    auc_xgb = roc_auc_score(y_test, y_pred_proba_xgb)\n",
    "    \n",
    "    # Puntuar cada modelo (mayor puntuación es mejor)\n",
    "    score_rf = (report_rf['1']['recall'] * 0.4 +  # Recall es importante para detectar fraudes\n",
    "                report_rf['1']['precision'] * 0.3 +\n",
    "                auc_rf * 0.3)\n",
    "    \n",
    "    score_xgb = (report_xgb['1']['recall'] * 0.4 +\n",
    "                 report_xgb['1']['precision'] * 0.3 +\n",
    "                 auc_xgb * 0.3)\n",
    "    \n",
    "    # Comparar y hacer recomendación\n",
    "    if score_rf > score_xgb:\n",
    "        recomendacion = \"Random Forest\"\n",
    "        razon = f\"Mejor balance entre recall ({report_rf['1']['recall']:.3f}) y precisión ({report_rf['1']['precision']:.3f})\"\n",
    "    else:\n",
    "        recomendacion = \"XGBoost\"\n",
    "        razon = f\"Mejor balance entre recall ({report_xgb['1']['recall']:.3f}) y precisión ({report_xgb['1']['precision']:.3f})\"\n",
    "    \n",
    "    print(\"=== RECOMENDACIÓN DE MODELO ===\")\n",
    "    print(f\"Modelo recomendado: {recomendacion}\")\n",
    "    print(f\"Razón: {razon}\")\n",
    "    print(f\"Puntuación Random Forest: {score_rf:.4f}\")\n",
    "    print(f\"Puntuación XGBoost: {score_xgb:.4f}\")\n",
    "    print(\"===============================\")\n",
    "    \n",
    "    return recomendacion\n",
    "\n",
    "# Usar la función de recomendación\n",
    "recomendacion = recomendar_modelo(y_test, y_pred, y_pred_proba, y_pred_xgb, y_pred_proba_xgb)"
   ]
  },
  {
   "cell_type": "markdown",
   "id": "2348f03b",
   "metadata": {},
   "source": [
    "## Evaluación"
   ]
  },
  {
   "cell_type": "code",
   "execution_count": null,
   "id": "a95798f8",
   "metadata": {},
   "outputs": [],
   "source": [
    "# Define models to test\n",
    "models = {\n",
    "    'RandomForest': RandomForestClassifier(class_weight='balanced', random_state=42),\n",
    "    'XGBoost': XGBClassifier(scale_pos_weight=(len(y)-sum(y))/sum(y), random_state=42),\n",
    "    'LightGBM': LGBMClassifier(class_weight='balanced', random_state=42)\n",
    "}\n",
    "\n",
    "# Evaluation metrics\n",
    "scoring = {\n",
    "    'f1': 'f1',\n",
    "    'roc_auc': 'roc_auc',\n",
    "    'precision': 'precision',\n",
    "    'recall': 'recall'\n",
    "}\n",
    "\n",
    "# Cross-validate each model\n",
    "results = {}\n",
    "for name, model in models.items():\n",
    "    pipeline = Pipeline(steps=[\n",
    "        ('preprocessor', preprocessor),\n",
    "        ('smote', SMOTE(sampling_strategy=0.3, random_state=42)),\n",
    "        ('classifier', model)\n",
    "    ])\n",
    "\n",
    "    cv_results = cross_validate(pipeline, X, y, cv=cv, scoring=scoring, n_jobs=-1)\n",
    "    results[name] = {\n",
    "        'f1_mean': np.mean(cv_results['test_f1']),\n",
    "        'f1_std': np.std(cv_results['test_f1']),\n",
    "        'roc_auc_mean': np.mean(cv_results['test_roc_auc']),\n",
    "        'roc_auc_std': np.std(cv_results['test_roc_auc'])\n",
    "    }\n",
    "\n",
    "# Display results\n",
    "results_df = pd.DataFrame(results).T\n",
    "print(results_df)"
   ]
  }
 ],
 "metadata": {
  "kernelspec": {
   "display_name": "mlparadetectarfraudes",
   "language": "python",
   "name": "python3"
  },
  "language_info": {
   "name": "python",
   "version": "3.13.5"
  }
 },
 "nbformat": 4,
 "nbformat_minor": 5
}
