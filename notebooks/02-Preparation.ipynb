{
 "cells": [
  {
   "cell_type": "markdown",
   "id": "f6c1fe73",
   "metadata": {},
   "source": []
  },
  {
   "cell_type": "markdown",
   "id": "28e432fd",
   "metadata": {},
   "source": [
    "# Index\n",
    "\n",
    "1. [Packages](#packages)\n",
    "2. [Guardar los datos estandarizados](#guardar-los-datos-estandarizados)"
   ]
  },
  {
   "cell_type": "markdown",
   "id": "5efa9928",
   "metadata": {},
   "source": [
    "# Packages"
   ]
  },
  {
   "cell_type": "code",
   "execution_count": null,
   "id": "a010ad85",
   "metadata": {},
   "outputs": [
    {
     "ename": "SyntaxError",
     "evalue": "invalid syntax (2979718992.py, line 27)",
     "output_type": "error",
     "traceback": [
      "  \u001b[36mCell\u001b[39m\u001b[36m \u001b[39m\u001b[32mIn[1]\u001b[39m\u001b[32m, line 27\u001b[39m\n\u001b[31m    \u001b[39m\u001b[31mfrom matplotlib. import style\u001b[39m\n                     ^\n\u001b[31mSyntaxError\u001b[39m\u001b[31m:\u001b[39m invalid syntax\n"
     ]
    }
   ],
   "source": [
    "import sys\n",
    "import os\n",
    "sys.path.append(os.path.abspath(\"..\"))\n",
    "\n",
    "import pandas as pd\n",
    "import numpy as np"
   ]
  },
  {
   "cell_type": "code",
   "execution_count": null,
   "id": "b1b72091",
   "metadata": {},
   "outputs": [],
   "source": [
    "# Cargar el DataFrame filtrado desde data/processed\n",
    "data_filtrado = pd.read_csv('../data/processed/data_filtrado.csv')\n",
    "\n",
    "# Verificar la carga\n",
    "print('Shape de data_filtrado:', data_filtrado.shape)\n",
    "print('Columnas:', data_filtrado.columns.tolist())"
   ]
  },
  {
   "cell_type": "code",
   "execution_count": null,
   "id": "785ae9e5",
   "metadata": {},
   "outputs": [],
   "source": [
    "# Separate features and target\n",
    "X = data.drop('is_fraud', axis=1)\n",
    "y = data['is_fraud']\n",
    "\n",
    "# Identify column types\n",
    "categorical_cols = X.select_dtypes(include=['object', 'category']).columns.tolist()\n",
    "numerical_cols = X.select_dtypes(include=['int64', 'float64']).columns.tolist()\n",
    "\n",
    "print(\"Columnas numéricas:\", numerical_cols)\n",
    "print(\"Columnas categóricas:\", categorical_cols)\n"
   ]
  },
  {
   "cell_type": "code",
   "execution_count": null,
   "id": "9a13c50b",
   "metadata": {},
   "outputs": [],
   "source": [
    "# Create preprocessing pipelines\n",
    "numerical_transformer = Pipeline(steps=[\n",
    "    ('imputer', SimpleImputer(strategy='median')), #Reemplazar valores faltantes con la mediana\n",
    "    ('scaler', StandardScaler())\n",
    "])\n",
    "\n",
    "categorical_transformer = Pipeline(steps=[\n",
    "    ('imputer', SimpleImputer(strategy='most_frequent')), #Reemplazar valores faltantes con  los valores más comunes\n",
    "    ('onehot', OneHotEncoder(handle_unknown='ignore', drop='first')) # Use variables dummies\n",
    "])\n",
    "\n",
    "# Combine preprocessing\n",
    "preprocessor = ColumnTransformer(\n",
    "    transformers=[\n",
    "        ('num', numerical_transformer, numerical_cols),\n",
    "        ('cat', categorical_transformer, categorical_cols)\n",
    "    ])\n",
    "\n",
    "X_processed = preprocessor.fit_transform(X)\n",
    "X_processed.shape()"
   ]
  },
  {
   "cell_type": "code",
   "execution_count": 8,
   "id": "14db5064",
   "metadata": {},
   "outputs": [
    {
     "ename": "TypeError",
     "evalue": "'tuple' object is not callable",
     "output_type": "error",
     "traceback": [
      "\u001b[31m---------------------------------------------------------------------------\u001b[39m",
      "\u001b[31mTypeError\u001b[39m                                 Traceback (most recent call last)",
      "\u001b[36mCell\u001b[39m\u001b[36m \u001b[39m\u001b[32mIn[8]\u001b[39m\u001b[32m, line 4\u001b[39m\n\u001b[32m      2\u001b[39m X_processed_df = pd.DataFrame(X_processed, columns=column_names)\n\u001b[32m      3\u001b[39m X_processed_df.head()\n\u001b[32m----> \u001b[39m\u001b[32m4\u001b[39m X_processed_df.shape()\n",
      "\u001b[31mTypeError\u001b[39m: 'tuple' object is not callable"
     ]
    }
   ],
   "source": [
    "column_names = preprocessor.get_feature_names_out()\n",
    "X_processed_df = pd.DataFrame(X_processed, columns=column_names)\n",
    "X_processed_df.head()\n",
    "X_processed_df.shape()\n"
   ]
  },
  {
   "cell_type": "code",
   "execution_count": null,
   "id": "f23575da",
   "metadata": {},
   "outputs": [],
   "source": [
    "# Generate subplots for each variable.\n",
    "fig, axs = plt.subplots(nrows=6, ncols=3, figsize=(15, 20))\n",
    "axs = axs.flatten()\n",
    "\n",
    "# Generate a boxplot for each variable.\n",
    "for i, var in enumerate(data.columns):  # We iterated directly over the DataFrame’s columns.\n",
    "    axs[i].boxplot(data[var].dropna(), vert=False)\n",
    "    axs[i].set_title(var)\n",
    "\n",
    "plt.tight_layout()\n",
    "plt.show()"
   ]
  },
  {
   "cell_type": "code",
   "execution_count": null,
   "id": "f1a39aea",
   "metadata": {},
   "outputs": [],
   "source": [
    "#Matriz de Correlacion\n",
    "#Verifiquemos si hay correlacion entre los datos\n",
    "corr = data.corr(method=\"pearson\").corr()\n",
    "#Resulta más intuitivo ver la matriz de correlación a través de un gráfico - heatmap de seaborn\n",
    "\n",
    "plt.figure(figsize=(15,15)) #Defino el tamaño del grafico\n",
    "\n",
    "#Genero el mapa de calor\n",
    "sns.heatmap(corr, \n",
    "            cbar = True, \n",
    "            square = True, \n",
    "            annot=True,\n",
    "            fmt= '.2f',\n",
    "            annot_kws={'size': 15},\n",
    "            cmap= 'coolwarm') \n",
    "\n",
    "#Roto los ejes para que queden inclinados\n",
    "plt.xticks(rotation = 45)\n",
    "plt.yticks(rotation = 45)\n",
    "plt.show()"
   ]
  },
  {
   "cell_type": "markdown",
   "id": "59cd75f3",
   "metadata": {},
   "source": [
    "# Guardar los datos estandarizados"
   ]
  },
  {
   "cell_type": "code",
   "execution_count": null,
   "id": "7748b77d",
   "metadata": {},
   "outputs": [],
   "source": [
    "from paths import data_interim_dir\n",
    "df.to_csv(data_interim_dir(\"datos_procesados.csv\"), index=False)"
   ]
  }
 ],
 "metadata": {
  "kernelspec": {
   "display_name": "mlparadetectarfraudes",
   "language": "python",
   "name": "python3"
  },
  "language_info": {
   "codemirror_mode": {
    "name": "ipython",
    "version": 3
   },
   "file_extension": ".py",
   "mimetype": "text/x-python",
   "name": "python",
   "nbconvert_exporter": "python",
   "pygments_lexer": "ipython3",
   "version": "3.13.5"
  }
 },
 "nbformat": 4,
 "nbformat_minor": 5
}
