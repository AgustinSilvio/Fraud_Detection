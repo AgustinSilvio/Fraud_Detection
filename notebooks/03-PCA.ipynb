{
 "cells": [
  {
   "cell_type": "markdown",
   "id": "9e42087a",
   "metadata": {},
   "source": [
    "# PCA"
   ]
  },
  {
   "cell_type": "markdown",
   "id": "874dae41",
   "metadata": {},
   "source": [
    "varianza en la proyección de datos, varianza se captura mejor con vectores que siguen mejor la tendencia de los datos covarianza. vector arbitrario de dirección por matriz de covarianza. Con valores propios en la diagonal de la matriz de covariannza. Vectores propios son las componentes prinncipales. Reducir a menos variables, estando dispuesto a sacrificar varianza, para dar al modelo de ML menos cantidad de datos"
   ]
  },
  {
   "cell_type": "code",
   "execution_count": null,
   "id": "31698906",
   "metadata": {},
   "outputs": [],
   "source": []
  },
  {
   "cell_type": "markdown",
   "id": "3064403d",
   "metadata": {},
   "source": [
    "# Index\n",
    "\n",
    "1. [Packages](#packages)\n",
    "2. [Visualizaciones](#visualizaciones)\n",
    "3. [Busco anomalías](#busco-anomalías)"
   ]
  },
  {
   "cell_type": "markdown",
   "id": "08843ef8",
   "metadata": {},
   "source": [
    "# Packages"
   ]
  },
  {
   "cell_type": "code",
   "execution_count": null,
   "id": "b441d7dd",
   "metadata": {},
   "outputs": [],
   "source": [
    "import sys\n",
    "import os\n",
    "from pathlib import Path\n",
    "sys.path.append(os.path.abspath(\"..\"))\n",
    "\n",
    "from mlparadetectarfraudes.data import data\n",
    "\n",
    "import pandas as pd\n",
    "import numpy as np\n",
    "import yfinance as yf\n",
    "from sklearn.decomposition import PCA\n",
    "from sklearn.preprocessing import StandardScaler\n",
    "from sklearn.metrics import mean_squared_error\n",
    "import matplotlib.pyplot as plt\n",
    "import seaborn as sns\n",
    "from mpl_toolkits.mplot3d import Axes3D"
   ]
  },
  {
   "cell_type": "markdown",
   "id": "2476a4a4",
   "metadata": {},
   "source": [
    "#data_estandarizados = pd.read_csv(data_interim_dir(\"data_estandarizados.csv\"))\n"
   ]
  },
  {
   "cell_type": "code",
   "execution_count": null,
   "id": "c8367127",
   "metadata": {},
   "outputs": [],
   "source": [
    "#Estandarizamos los datos previo a hacer el PCA\n",
    "scaler = StandardScaler()\n",
    "data_estandarizados = scaler.fit_transform(data)\n",
    "\n",
    "\n"
   ]
  },
  {
   "cell_type": "code",
   "execution_count": null,
   "id": "453e2b4e",
   "metadata": {},
   "outputs": [],
   "source": [
    "# Aplicar PCA\n",
    "pca = PCA(n_components=0.95)  # Mantener el 95% de varianza\n",
    "X_pca = pca.fit_transform(X_processed_df)\n",
    "\n",
    "# Visualizar varianza explicada\n",
    "plt.figure(figsize=(10, 6))\n",
    "plt.plot(np.cumsum(pca.explained_variance_ratio_))\n",
    "plt.xlabel('Número de componentes')\n",
    "plt.ylabel('Varianza explicada acumulativa')\n",
    "plt.title('PCA - Varianza explicada por componentes')\n",
    "plt.grid(True)\n",
    "plt.show()\n",
    "\n",
    "# Crear DataFrame con componentes principales y variable objetivo\n",
    "pca_df = pd.DataFrame(X_pca, columns=[f'PC{i+1}' for i in range(X_pca.shape[1])])\n",
    "pca_df['is_fraud'] = y.values\n",
    "\n",
    "# Visualizar primeros dos componentes coloreados por fraude\n",
    "plt.figure(figsize=(10, 8))\n",
    "fraud_data = pca_df[pca_df['is_fraud'] == 1]\n",
    "normal_data = pca_df[pca_df['is_fraud'] == 0]\n",
    "plt.scatter(normal_data['PC1'], normal_data['PC2'], alpha=0.5, label='Normal', s=10)\n",
    "plt.scatter(fraud_data['PC1'], fraud_data['PC2'], alpha=0.8, label='Fraude', s=20, color='red')\n",
    "plt.xlabel('Primer Componente Principal (Explica {:.2f}% de varianza)'.format(pca.explained_variance_ratio_[0]*100))\n",
    "plt.ylabel('Segunda Componente Principal (Explica {:.2f}% de varianza)'.format(pca.explained_variance_ratio_[1]*100))\n",
    "plt.title('PCA - Visualización de Transacciones Normales y Fraudulentas')\n",
    "plt.legend()\n",
    "plt.show()\n",
    "\n",
    "print(\"Interpretación:\")\n",
    "print(\"- Si los puntos rojos (fraudes) están agrupados en áreas específicas, indica que el PCA puede ayudar a detectar patrones de fraude\")\n",
    "print(\"- Si están dispersos por todo el gráfico, significa que los fraudes no siguen un patrón claro en las dos primeras componentes\")\n",
    "print(\"- Los outliers (puntos alejados del grupo principal) podrían representar transacciones anómalas\")"
   ]
  },
  {
   "cell_type": "code",
   "execution_count": null,
   "id": "16886589",
   "metadata": {},
   "outputs": [],
   "source": [
    "# Usar PCA con el número de componentes que explican el 95% de varianza\n",
    "pca_95 = PCA(n_components=0.95)\n",
    "X_pca_95 = pca_95.fit_transform(X_processed_df)\n",
    "\n",
    "print(f\"Número de componentes para 95% de varianza: {pca_95.n_components_}\")\n",
    "print(f\"Varianza explicada acumulada: {np.sum(pca_95.explained_variance_ratio_):.4f}\")\n",
    "\n",
    "# Visualizar varianza explicada por componente\n",
    "plt.figure(figsize=(10, 6))\n",
    "plt.bar(range(1, len(pca_95.explained_variance_ratio_)+1), pca_95.explained_variance_ratio_)\n",
    "plt.xlabel('Componente Principal')\n",
    "plt.ylabel('Varianza Explicada')\n",
    "plt.title('Varianza Explicada por Cada Componente Principal')\n",
    "plt.show()"
   ]
  },
  {
   "cell_type": "markdown",
   "id": "d79404c2",
   "metadata": {},
   "source": [
    "Vemos la cantidad de variabilidad explicada de cada componente y hacemos un dataframe con los componentes que nos interesan"
   ]
  },
  {
   "cell_type": "code",
   "execution_count": null,
   "id": "b91f3efe",
   "metadata": {},
   "outputs": [],
   "source": [
    "# Aplicar PCA\n",
    "pca = PCA(n_components=3) #reducimos a 3 componentes\n",
    "componentes = pca.fit_transform(data_estandarizados)\n",
    "\n",
    "#Creamos dataframe con los componentes principales\n",
    "pca_df = pd.DataFrame(data=componentes, columns=['PC1', 'PC2', 'PC3'], index=data.index)"
   ]
  },
  {
   "cell_type": "markdown",
   "id": "b59bc67a",
   "metadata": {},
   "source": [
    "# Visualizaciones"
   ]
  },
  {
   "cell_type": "code",
   "execution_count": null,
   "id": "ac5b7190",
   "metadata": {},
   "outputs": [],
   "source": [
    "#Visualizamos la varinza explicada\n",
    "plt.figure(figsize=(10, 6))\n",
    "plt.bar(range(1,4), pca.explained_variance_ratio_, alpha=0.6)\n",
    "plt.plot(range(1,4), np.cumsum(pca.explained_variance_ratio_), 'ro-')\n",
    "plt.xlabel('Componentes principales')\n",
    "plt.ylabel('Varianza explicada')\n",
    "plt.title('Varianza explicada por cada componente principal')\n",
    "plt.xticks(range(1,4))\n",
    "plt.grid(True)\n",
    "plt.show()"
   ]
  },
  {
   "cell_type": "code",
   "execution_count": null,
   "id": "520ddfaa",
   "metadata": {},
   "outputs": [],
   "source": [
    "# Visualización 3D de los componentes principales\n",
    "fig = plt.figure(figsize=(12, 8))\n",
    "ax = fig.add_subplot(111, projection='3d')\n",
    "ax.scatter(pca_df['PC1'], pca_df['PC2'], pca_df['PC3'], alpha=0.5)\n",
    "ax.set_xlabel('PC1 (%.2f%%)' % (pca.explained_variance_ratio_[0]*100))\n",
    "ax.set_ylabel('PC2(%.2f%%)' % (pca.explained_variance_ratio_[1]*100))\n",
    "ax.set_zlabel('PC3(%.2f%%)' % (pca.explained_variance_ratio_[2]*100))\n",
    "ax.set_title('Visualizaciónn 3D de Componentes Principales')\n",
    "plt.show()"
   ]
  },
  {
   "cell_type": "markdown",
   "id": "c0e06850",
   "metadata": {},
   "source": [
    "# Busco anomalías"
   ]
  },
  {
   "cell_type": "code",
   "execution_count": null,
   "id": "cc4f237c",
   "metadata": {},
   "outputs": [],
   "source": [
    "# Reconstruir los datos a partir de los componentes principales\n",
    "reconstruidos = pca.inverse_transform(componentes)\n",
    "#calcular el error de reconstrucción MSE\n",
    "mse = np.mean(np.square(retornos_estandarizados - reconstruidos), axis=1)\n",
    "\n",
    "#Identificar anomalías (umbral = percentil 95)\n",
    "umbral = np.percentile(mse, 95)\n",
    "anomalias = mse > umbral"
   ]
  },
  {
   "cell_type": "code",
   "execution_count": null,
   "id": "aebf6012",
   "metadata": {},
   "outputs": [],
   "source": [
    "#Visualizar anomalías\n",
    "plt.figure(figsize=(12, 6))\n",
    "plt.plot(retornos.index, mse, label='Error de reconstrucción')\n",
    "plt.axhline(y=umbral, color='r', linestyle='--', label='Umbral')"
   ]
  },
  {
   "cell_type": "code",
   "execution_count": null,
   "id": "f4bccdba",
   "metadata": {},
   "outputs": [],
   "source": [
    "Visualizar anomalias\n",
    "plt.figure(figsize=(12, 6))\n",
    "plt.plot(retornos.index, mse, label='Error de reconstrucción')\n",
    "plt.scatter(retornos.index[anomalias], mse[anomalias], color='r', label='Anomalías')\n",
    "plt.axhline(y=umbral, color='r', linestyle='--', label='Anomalías')\n",
    "plt.title('Detección de Anomalías en mercados financieros')\n",
    "plt.xlabel('Fecha')\n",
    "plt.ylabel('Error de reconstrucción')\n",
    "plt.legend()\n",
    "plt.grid(True)\n",
    "plt.xticks(rotation=45)\n",
    "plt.tight_layout()\n",
    "plt.show()"
   ]
  },
  {
   "cell_type": "markdown",
   "id": "8156de54",
   "metadata": {},
   "source": [
    "Umbral es la linea de rayitas, puntos rojos son las anomalias, una anomalía tan grande me arruina la visualización de las otras. Corona virus puede ser anomaias"
   ]
  },
  {
   "cell_type": "code",
   "execution_count": null,
   "id": "a9375f9b",
   "metadata": {},
   "outputs": [],
   "source": [
    "#Analizamos fechas con anomalías\n",
    "anomalias_df = retornos[anomalias]\n",
    "print(\"Fechas con anomalías:\")\n",
    "print(anomalias_df.index)"
   ]
  },
  {
   "cell_type": "code",
   "execution_count": null,
   "id": "cd88f0a8",
   "metadata": {},
   "outputs": [],
   "source": [
    "#Vemos los 5 días con mayores anomalías\n",
    "top_anomalias = anomalias_df.iloc[np.argsort(-mse[anomalias])[:5]]\n",
    "print(\"/nTop 5 días con mayores anomalias:\")\n",
    "print(top_anomalias)"
   ]
  }
 ],
 "metadata": {
  "kernelspec": {
   "display_name": "mlparadetectarfraudes",
   "language": "python",
   "name": "python3"
  },
  "language_info": {
   "name": "python",
   "version": "3.13.5"
  }
 },
 "nbformat": 4,
 "nbformat_minor": 5
}
