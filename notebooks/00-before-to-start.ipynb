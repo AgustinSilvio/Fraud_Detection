{
 "cells": [
  {
   "cell_type": "markdown",
   "metadata": {},
   "source": [
    "# Before to start\n",
    "\n",
    "1. [Prerequisites](#prerequisites)\n",
    "2. [Download or clone the project](#download-or-clone-the-project)\n",
    "3. [Create working environment](#create-working-environment)\n",
    "4. [Activate working environment](#activate-working-envieronment)\n",
    "5. [Set up project's module](#set-up-projects-module)"
   ]
  },
  {
   "cell_type": "markdown",
   "metadata": {},
   "source": [
    "## Prerequisites\n",
    "\n",
    "- [Conda](https://docs.conda.io/projects/conda/en/latest/user-guide/install/download.html)\n",
    "- Optional [Mamba](https://mamba.readthedocs.io/en/latest/)"
   ]
  },
  {
   "cell_type": "markdown",
   "metadata": {},
   "source": [
    "## Download or clone the project\n",
    "\n",
    "Click [here](https://github.com/AgustinSilvio/Fraud_Detection/archive/refs/heads/main.zip) to download the `.zip` version of the project. \n",
    "\n",
    "\n",
    "Alternatively, you can clone the repository directly with the following command:\n",
    "\n",
    "```bash\n",
    "git clone https://github.com/AgustinSilvio/Fraud_Detection.git\n",
    "```\n",
    "\n",
    "Choose a folder where you clone or save the download files."
   ]
  },
  {
   "cell_type": "markdown",
   "metadata": {},
   "source": [
    "## Create working environment\n",
    "\n",
    "Open the Anaconnda or Mamba prompt and navigate to your project folder. Use 'cd' if you have Windows.\n",
    "\n",
    "```bash\n",
    "conda env create --file environment.yml\n",
    "```\n",
    "\n",
    "or \n",
    "\n",
    "```bash\n",
    "mamba env create --file environment.yml\n",
    "```\n",
    "\n",
    "Now you have everything you need to work with this project."
   ]
  },
  {
   "cell_type": "markdown",
   "metadata": {},
   "source": [
    "## Activate working envieronment\n",
    "\n",
    "```bash\n",
    "conda activate mlparadetectarfraudes\n",
    "```"
   ]
  },
  {
   "cell_type": "markdown",
   "metadata": {},
   "source": [
    "## Set up project's module\n",
    "\n",
    "To move beyond notebook prototyping, all reusable code should go into the `mlparadetectarfraudes/` folder package. To use that package inside your project, install the project's module in editable mode, so you can edit files in the `mlparadetectarfraudes` folder and use the modules inside your notebooks :\n",
    "\n",
    "```bash\n",
    "pip install --editable .\n",
    "```\n",
    "\n",
    "Example of module usage :\n",
    "\n",
    "```python\n",
    "from mlparadetectarfraudes.utils.paths import data_dir\n",
    "data_dir()\n",
    "```\n",
    "\n",
    "To edit the source code and see the changes reflected at the moment within your notebooks, add `%autoreload` before importing `mlparadetectarfraudes`:\n",
    "\n",
    "```python\n",
    "%load_ext autoreload\n",
    "%autoreload 2\n",
    "```\n",
    "\n",
    ":::{note}\n",
    " 😋\n",
    ":::"
   ]
  }
 ],
 "metadata": {
  "kernelspec": {
   "display_name": "mlparadetectarfraudes",
   "language": "python",
   "name": "python3"
  },
  "language_info": {
   "name": "python",
   "version": "3.13.5"
  },
  "orig_nbformat": 4
 },
 "nbformat": 4,
 "nbformat_minor": 2
}
